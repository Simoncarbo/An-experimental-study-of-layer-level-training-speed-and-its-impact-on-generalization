{
 "cells": [
  {
   "cell_type": "code",
   "execution_count": 1,
   "metadata": {
    "collapsed": true
   },
   "outputs": [],
   "source": [
    "%matplotlib inline\n",
    "import mpld3\n",
    "mpld3.enable_notebook()\n",
    "\n",
    "%load_ext autoreload"
   ]
  },
  {
   "cell_type": "code",
   "execution_count": 2,
   "metadata": {},
   "outputs": [
    {
     "name": "stderr",
     "output_type": "stream",
     "text": [
      "/home/sicarbonnell/anaconda3/lib/python3.5/site-packages/h5py/__init__.py:34: FutureWarning: Conversion of the second argument of issubdtype from `float` to `np.floating` is deprecated. In future, it will be treated as `np.float64 == np.dtype(float).type`.\n",
      "  from ._conv import register_converters as _register_converters\n",
      "Using TensorFlow backend.\n"
     ]
    }
   ],
   "source": [
    "%autoreload\n",
    "import sys\n",
    "sys.path.insert(0, \"../\")\n",
    "\n",
    "import numpy as np\n",
    "import matplotlib\n",
    "import matplotlib.pyplot as plt\n",
    "import pickle\n",
    "\n",
    "from mnist_experiment_utils import load_data, get_model\n",
    "from experiment_utils import plot_history, history_todict\n",
    "\n",
    "from keras.optimizers import SGD"
   ]
  },
  {
   "cell_type": "code",
   "execution_count": 3,
   "metadata": {
    "collapsed": true
   },
   "outputs": [],
   "source": [
    "result_file = 'results_normal.p'"
   ]
  },
  {
   "cell_type": "code",
   "execution_count": 4,
   "metadata": {},
   "outputs": [
    {
     "name": "stdout",
     "output_type": "stream",
     "text": [
      "Experiment 0 done.\n",
      "Experiment 1 done.\n",
      "Experiment 2 done.\n",
      "Experiment 3 done.\n",
      "Experiment 4 done.\n",
      "Experiment 5 done.\n",
      "Experiment 6 done.\n",
      "Experiment 7 done.\n",
      "Experiment 8 done.\n",
      "Experiment 9 done.\n"
     ]
    }
   ],
   "source": [
    "results = dict()\n",
    "\n",
    "for experiment in range(10):\n",
    "    results.update({experiment:{}})\n",
    "    x_train, y_train, x_test, y_test = load_data(experiment)\n",
    "\n",
    "    lr = 10\n",
    "    batch_size = 128 # -> full batch training since there are 100 training samples\n",
    "    epochs = 4000\n",
    "    verbose = 0\n",
    "\n",
    "    for i in range(0,10):\n",
    "        model = get_model(experiment)\n",
    "\n",
    "        for l in model.layers:\n",
    "            if l.name != 'dense'+str(i):\n",
    "                l.trainable = False\n",
    "                \n",
    "        model.compile(loss='categorical_crossentropy',\n",
    "                      optimizer=SGD(lr),\n",
    "                      metrics=['accuracy'])\n",
    "\n",
    "        history = model.fit(x_train, y_train,\n",
    "                            batch_size=batch_size,\n",
    "                            epochs=epochs,\n",
    "                            verbose=verbose)\n",
    "\n",
    "        score_train = model.evaluate(x_train, y_train, verbose=0)\n",
    "        score_test = model.evaluate(x_test, y_test, verbose=0)\n",
    "\n",
    "        results[experiment].update({i:[score_train,score_test,history_todict(history)]})\n",
    "    with open(result_file,'wb') as f:\n",
    "        pickle.dump(results,f)\n",
    "        \n",
    "    print('Experiment '+str(experiment)+' done.')    "
   ]
  },
  {
   "cell_type": "code",
   "execution_count": 4,
   "metadata": {},
   "outputs": [
    {
     "data": {
      "image/png": "[encoded data removed]",
      "text/html": [
       "\n",
       "\n",
       "<style>\n",
       "\n",
       "</style>\n",
       "\n",
       "<div id=\"fig_el46841406599133652084441389228\"></div>\n",
       "<script>\n",
       "function mpld3_load_lib(url, callback){\n",
       "  var s = document.createElement('script');\n",
       "  s.src = url;\n",
       "  s.async = true;\n",
       "  s.onreadystatechange = s.onload = callback;\n",
       "  s.onerror = function(){console.warn(\"failed to load library \" + url);};\n",
       "  document.getElementsByTagName(\"head\")[0].appendChild(s);\n",
       "}\n",
       "\n",
       "if(typeof(mpld3) !== \"undefined\" && mpld3._mpld3IsLoaded){\n",
       "   // already loaded: just create the figure\n",
       "   !function(mpld3){\n",
       "       \n",
       "       mpld3.draw_figure(\"fig_el46841406599133652084441389228\", {\"width\": 432.0, \"height\": 288.0, \"data\": {\"data01\": [[0.0, 0.7447], [1.0, 0.75982], [2.0, 0.74933], [3.0, 0.7311600000000001], [4.0, 0.7060500000000001], [5.0, 0.68272], [6.0, 0.6565000000000001], [7.0, 0.6308400000000001], [8.0, 0.60455], [9.0, 0.57519]]}, \"axes\": [{\"ydomain\": [0.54, 0.78], \"lines\": [{\"drawstyle\": \"default\", \"coordinates\": \"data\", \"alpha\": 1, \"data\": \"data01\", \"yindex\": 1, \"zorder\": 2, \"linewidth\": 1.5, \"color\": \"#1F77B4\", \"id\": \"el4684140659892104552\", \"dasharray\": \"5.550000000000001,2.4000000000000004\", \"xindex\": 0}], \"zoomable\": true, \"ylim\": [0.54, 0.78], \"paths\": [], \"images\": [], \"sharey\": [], \"axesbgalpha\": null, \"axes\": [{\"tickvalues\": [0, 1, 2, 3, 4, 5, 6, 7, 8, 9], \"nticks\": 10, \"fontsize\": 18.0, \"tickformat\": null, \"position\": \"bottom\", \"scale\": \"linear\", \"visible\": true, \"grid\": {\"gridOn\": false}}, {\"tickvalues\": null, \"nticks\": 7, \"fontsize\": 18.0, \"tickformat\": null, \"position\": \"left\", \"scale\": \"linear\", \"visible\": true, \"grid\": {\"gridOn\": false}}], \"id\": \"el4684140659913367224\", \"axesbg\": \"#FFFFFF\", \"xscale\": \"linear\", \"markers\": [{\"edgecolor\": \"#1F77B4\", \"zorder\": 2, \"coordinates\": \"data\", \"alpha\": 1, \"markerpath\": [[[0.0, 3.75], [0.9945116250000001, 3.75], [1.9484245154432005, 3.3548763434559064], [2.6516504294495533, 2.6516504294495533], [3.3548763434559064, 1.9484245154432005], [3.75, 0.9945116250000001], [3.75, 0.0], [3.75, -0.9945116250000001], [3.3548763434559064, -1.9484245154432005], [2.6516504294495533, -2.6516504294495533], [1.9484245154432005, -3.3548763434559064], [0.9945116250000001, -3.75], [0.0, -3.75], [-0.9945116250000001, -3.75], [-1.9484245154432005, -3.3548763434559064], [-2.6516504294495533, -2.6516504294495533], [-3.3548763434559064, -1.9484245154432005], [-3.75, -0.9945116250000001], [-3.75, 0.0], [-3.75, 0.9945116250000001], [-3.3548763434559064, 1.9484245154432005], [-2.6516504294495533, 2.6516504294495533], [-1.9484245154432005, 3.3548763434559064], [-0.9945116250000001, 3.75], [0.0, 3.75]], [\"M\", \"C\", \"C\", \"C\", \"C\", \"C\", \"C\", \"C\", \"C\", \"Z\"]], \"data\": \"data01\", \"yindex\": 1, \"edgewidth\": 1.0, \"facecolor\": \"#1F77B4\", \"id\": \"el4684140659913806848pts\", \"xindex\": 0}], \"yscale\": \"linear\", \"texts\": [{\"coordinates\": \"axes\", \"fontsize\": 18.0, \"rotation\": -0.0, \"position\": [0.5, -0.14600745141476187], \"text\": \"Layer index\", \"alpha\": 1, \"h_anchor\": \"middle\", \"v_baseline\": \"hanging\", \"zorder\": 3, \"color\": \"#000000\", \"id\": \"el4684140659836232312\"}, {\"coordinates\": \"axes\", \"fontsize\": 18.0, \"rotation\": -90.0, \"position\": [-0.1599712832037956, 0.5], \"text\": \"Test accuracy\", \"alpha\": 1, \"h_anchor\": \"middle\", \"v_baseline\": \"auto\", \"zorder\": 3, \"color\": \"#000000\", \"id\": \"el4684140659911170312\"}], \"xdomain\": [-0.45, 9.45], \"sharex\": [], \"bbox\": [0.20530092592592594, 0.23069444444444442, 0.7415972222222221, 0.6896527777777779], \"collections\": [], \"xlim\": [-0.45, 9.45]}], \"id\": \"el4684140659913365208\", \"plugins\": [{\"type\": \"reset\"}, {\"enabled\": false, \"button\": true, \"type\": \"zoom\"}, {\"enabled\": false, \"button\": true, \"type\": \"boxzoom\"}]});\n",
       "   }(mpld3);\n",
       "}else if(typeof define === \"function\" && define.amd){\n",
       "   // require.js is available: use it to load d3/mpld3\n",
       "   require.config({paths: {d3: \"https://mpld3.github.io/js/d3.v3.min\"}});\n",
       "   require([\"d3\"], function(d3){\n",
       "      window.d3 = d3;\n",
       "      mpld3_load_lib(\"https://mpld3.github.io/js/mpld3.v0.3.js\", function(){\n",
       "         \n",
       "         mpld3.draw_figure(\"fig_el46841406599133652084441389228\", {\"width\": 432.0, \"height\": 288.0, \"data\": {\"data01\": [[0.0, 0.7447], [1.0, 0.75982], [2.0, 0.74933], [3.0, 0.7311600000000001], [4.0, 0.7060500000000001], [5.0, 0.68272], [6.0, 0.6565000000000001], [7.0, 0.6308400000000001], [8.0, 0.60455], [9.0, 0.57519]]}, \"axes\": [{\"ydomain\": [0.54, 0.78], \"lines\": [{\"drawstyle\": \"default\", \"coordinates\": \"data\", \"alpha\": 1, \"data\": \"data01\", \"yindex\": 1, \"zorder\": 2, \"linewidth\": 1.5, \"color\": \"#1F77B4\", \"id\": \"el4684140659892104552\", \"dasharray\": \"5.550000000000001,2.4000000000000004\", \"xindex\": 0}], \"zoomable\": true, \"ylim\": [0.54, 0.78], \"paths\": [], \"images\": [], \"sharey\": [], \"axesbgalpha\": null, \"axes\": [{\"tickvalues\": [0, 1, 2, 3, 4, 5, 6, 7, 8, 9], \"nticks\": 10, \"fontsize\": 18.0, \"tickformat\": null, \"position\": \"bottom\", \"scale\": \"linear\", \"visible\": true, \"grid\": {\"gridOn\": false}}, {\"tickvalues\": null, \"nticks\": 7, \"fontsize\": 18.0, \"tickformat\": null, \"position\": \"left\", \"scale\": \"linear\", \"visible\": true, \"grid\": {\"gridOn\": false}}], \"id\": \"el4684140659913367224\", \"axesbg\": \"#FFFFFF\", \"xscale\": \"linear\", \"markers\": [{\"edgecolor\": \"#1F77B4\", \"zorder\": 2, \"coordinates\": \"data\", \"alpha\": 1, \"markerpath\": [[[0.0, 3.75], [0.9945116250000001, 3.75], [1.9484245154432005, 3.3548763434559064], [2.6516504294495533, 2.6516504294495533], [3.3548763434559064, 1.9484245154432005], [3.75, 0.9945116250000001], [3.75, 0.0], [3.75, -0.9945116250000001], [3.3548763434559064, -1.9484245154432005], [2.6516504294495533, -2.6516504294495533], [1.9484245154432005, -3.3548763434559064], [0.9945116250000001, -3.75], [0.0, -3.75], [-0.9945116250000001, -3.75], [-1.9484245154432005, -3.3548763434559064], [-2.6516504294495533, -2.6516504294495533], [-3.3548763434559064, -1.9484245154432005], [-3.75, -0.9945116250000001], [-3.75, 0.0], [-3.75, 0.9945116250000001], [-3.3548763434559064, 1.9484245154432005], [-2.6516504294495533, 2.6516504294495533], [-1.9484245154432005, 3.3548763434559064], [-0.9945116250000001, 3.75], [0.0, 3.75]], [\"M\", \"C\", \"C\", \"C\", \"C\", \"C\", \"C\", \"C\", \"C\", \"Z\"]], \"data\": \"data01\", \"yindex\": 1, \"edgewidth\": 1.0, \"facecolor\": \"#1F77B4\", \"id\": \"el4684140659913806848pts\", \"xindex\": 0}], \"yscale\": \"linear\", \"texts\": [{\"coordinates\": \"axes\", \"fontsize\": 18.0, \"rotation\": -0.0, \"position\": [0.5, -0.14600745141476187], \"text\": \"Layer index\", \"alpha\": 1, \"h_anchor\": \"middle\", \"v_baseline\": \"hanging\", \"zorder\": 3, \"color\": \"#000000\", \"id\": \"el4684140659836232312\"}, {\"coordinates\": \"axes\", \"fontsize\": 18.0, \"rotation\": -90.0, \"position\": [-0.1599712832037956, 0.5], \"text\": \"Test accuracy\", \"alpha\": 1, \"h_anchor\": \"middle\", \"v_baseline\": \"auto\", \"zorder\": 3, \"color\": \"#000000\", \"id\": \"el4684140659911170312\"}], \"xdomain\": [-0.45, 9.45], \"sharex\": [], \"bbox\": [0.20530092592592594, 0.23069444444444442, 0.7415972222222221, 0.6896527777777779], \"collections\": [], \"xlim\": [-0.45, 9.45]}], \"id\": \"el4684140659913365208\", \"plugins\": [{\"type\": \"reset\"}, {\"enabled\": false, \"button\": true, \"type\": \"zoom\"}, {\"enabled\": false, \"button\": true, \"type\": \"boxzoom\"}]});\n",
       "      });\n",
       "    });\n",
       "}else{\n",
       "    // require.js not available: dynamically load d3 & mpld3\n",
       "    mpld3_load_lib(\"https://mpld3.github.io/js/d3.v3.min.js\", function(){\n",
       "         mpld3_load_lib(\"https://mpld3.github.io/js/mpld3.v0.3.js\", function(){\n",
       "                 \n",
       "                 mpld3.draw_figure(\"fig_el46841406599133652084441389228\", {\"width\": 432.0, \"height\": 288.0, \"data\": {\"data01\": [[0.0, 0.7447], [1.0, 0.75982], [2.0, 0.74933], [3.0, 0.7311600000000001], [4.0, 0.7060500000000001], [5.0, 0.68272], [6.0, 0.6565000000000001], [7.0, 0.6308400000000001], [8.0, 0.60455], [9.0, 0.57519]]}, \"axes\": [{\"ydomain\": [0.54, 0.78], \"lines\": [{\"drawstyle\": \"default\", \"coordinates\": \"data\", \"alpha\": 1, \"data\": \"data01\", \"yindex\": 1, \"zorder\": 2, \"linewidth\": 1.5, \"color\": \"#1F77B4\", \"id\": \"el4684140659892104552\", \"dasharray\": \"5.550000000000001,2.4000000000000004\", \"xindex\": 0}], \"zoomable\": true, \"ylim\": [0.54, 0.78], \"paths\": [], \"images\": [], \"sharey\": [], \"axesbgalpha\": null, \"axes\": [{\"tickvalues\": [0, 1, 2, 3, 4, 5, 6, 7, 8, 9], \"nticks\": 10, \"fontsize\": 18.0, \"tickformat\": null, \"position\": \"bottom\", \"scale\": \"linear\", \"visible\": true, \"grid\": {\"gridOn\": false}}, {\"tickvalues\": null, \"nticks\": 7, \"fontsize\": 18.0, \"tickformat\": null, \"position\": \"left\", \"scale\": \"linear\", \"visible\": true, \"grid\": {\"gridOn\": false}}], \"id\": \"el4684140659913367224\", \"axesbg\": \"#FFFFFF\", \"xscale\": \"linear\", \"markers\": [{\"edgecolor\": \"#1F77B4\", \"zorder\": 2, \"coordinates\": \"data\", \"alpha\": 1, \"markerpath\": [[[0.0, 3.75], [0.9945116250000001, 3.75], [1.9484245154432005, 3.3548763434559064], [2.6516504294495533, 2.6516504294495533], [3.3548763434559064, 1.9484245154432005], [3.75, 0.9945116250000001], [3.75, 0.0], [3.75, -0.9945116250000001], [3.3548763434559064, -1.9484245154432005], [2.6516504294495533, -2.6516504294495533], [1.9484245154432005, -3.3548763434559064], [0.9945116250000001, -3.75], [0.0, -3.75], [-0.9945116250000001, -3.75], [-1.9484245154432005, -3.3548763434559064], [-2.6516504294495533, -2.6516504294495533], [-3.3548763434559064, -1.9484245154432005], [-3.75, -0.9945116250000001], [-3.75, 0.0], [-3.75, 0.9945116250000001], [-3.3548763434559064, 1.9484245154432005], [-2.6516504294495533, 2.6516504294495533], [-1.9484245154432005, 3.3548763434559064], [-0.9945116250000001, 3.75], [0.0, 3.75]], [\"M\", \"C\", \"C\", \"C\", \"C\", \"C\", \"C\", \"C\", \"C\", \"Z\"]], \"data\": \"data01\", \"yindex\": 1, \"edgewidth\": 1.0, \"facecolor\": \"#1F77B4\", \"id\": \"el4684140659913806848pts\", \"xindex\": 0}], \"yscale\": \"linear\", \"texts\": [{\"coordinates\": \"axes\", \"fontsize\": 18.0, \"rotation\": -0.0, \"position\": [0.5, -0.14600745141476187], \"text\": \"Layer index\", \"alpha\": 1, \"h_anchor\": \"middle\", \"v_baseline\": \"hanging\", \"zorder\": 3, \"color\": \"#000000\", \"id\": \"el4684140659836232312\"}, {\"coordinates\": \"axes\", \"fontsize\": 18.0, \"rotation\": -90.0, \"position\": [-0.1599712832037956, 0.5], \"text\": \"Test accuracy\", \"alpha\": 1, \"h_anchor\": \"middle\", \"v_baseline\": \"auto\", \"zorder\": 3, \"color\": \"#000000\", \"id\": \"el4684140659911170312\"}], \"xdomain\": [-0.45, 9.45], \"sharex\": [], \"bbox\": [0.20530092592592594, 0.23069444444444442, 0.7415972222222221, 0.6896527777777779], \"collections\": [], \"xlim\": [-0.45, 9.45]}], \"id\": \"el4684140659913365208\", \"plugins\": [{\"type\": \"reset\"}, {\"enabled\": false, \"button\": true, \"type\": \"zoom\"}, {\"enabled\": false, \"button\": true, \"type\": \"boxzoom\"}]});\n",
       "            })\n",
       "         });\n",
       "}\n",
       "</script>"
      ],
      "text/plain": [
       "<matplotlib.figure.Figure at 0x7fedf02b96d8>"
      ]
     },
     "metadata": {},
     "output_type": "display_data"
    }
   ],
   "source": [
    "with open(result_file,'rb') as f:\n",
    "    results = pickle.load(f)\n",
    "    \n",
    "nb_experiments = len(results.keys())\n",
    "\n",
    "test_accs = np.zeros(10)\n",
    "for experiment in range(nb_experiments):\n",
    "    test_accs += np.array([results[experiment][i][1][1] for i in range(0,10)])/nb_experiments\n",
    "\n",
    "matplotlib.rcParams.update({'font.size': 18})\n",
    "\n",
    "plt.plot(np.arange(10),test_accs,'C0--')\n",
    "plt.plot(np.arange(10),test_accs,'C0.',ms = 15)\n",
    "plt.xlabel('Layer index')\n",
    "plt.ylabel('Test accuracy')\n",
    "plt.xticks(range(10))\n",
    "plt.ylim(0.54,0.78)\n",
    "\n",
    "plt.tight_layout()\n",
    "plt.plot()\n",
    "\n",
    "plt.savefig('figures/MNIST_normal.eps',format='eps', dpi=200)\n",
    "# plt.savefig('figures/MNIST_normal.png',format='png', dpi=300)"
   ]
  },
  {
   "cell_type": "code",
   "execution_count": null,
   "metadata": {
    "collapsed": true
   },
   "outputs": [],
   "source": [
    "with open(result_file,'rb') as f:\n",
    "    results = pickle.load(f)\n",
    "\n",
    "experiment = 0\n",
    "results = results[experiment]\n",
    "\n",
    "train_accs = [results[i][0][1] for i in range(0,10)]\n",
    "test_accs = [results[i][1][1] for i in range(0,10)]\n",
    "\n",
    "matplotlib.rcParams.update({'font.size': 16})\n",
    "\n",
    "plt.plot(np.arange(10),test_accs,'C0--')\n",
    "# plt.plot(np.arange(10),train_accs,'C0--')\n",
    "plt.plot(np.arange(10),test_accs,'C0.',ms = 15)\n",
    "plt.xlabel('Layer depth')\n",
    "plt.ylabel('Test accuracy')\n",
    "\n",
    "plt.tight_layout()\n",
    "plt.plot()\n",
    "\n",
    "# plt.savefig('1LM_base.eps',format='eps', dpi=200)\n",
    "# plt.savefig('1LM_base.jpg', dpi=200)"
   ]
  },
  {
   "cell_type": "code",
   "execution_count": null,
   "metadata": {
    "collapsed": true
   },
   "outputs": [],
   "source": []
  }
 ],
 "metadata": {
  "kernelspec": {
   "display_name": "Python 3",
   "language": "python",
   "name": "python3"
  },
  "language_info": {
   "codemirror_mode": {
    "name": "ipython",
    "version": 3
   },
   "file_extension": ".py",
   "mimetype": "text/x-python",
   "name": "python",
   "nbconvert_exporter": "python",
   "pygments_lexer": "ipython3",
   "version": "3.5.4"
  }
 },
 "nbformat": 4,
 "nbformat_minor": 2
}
