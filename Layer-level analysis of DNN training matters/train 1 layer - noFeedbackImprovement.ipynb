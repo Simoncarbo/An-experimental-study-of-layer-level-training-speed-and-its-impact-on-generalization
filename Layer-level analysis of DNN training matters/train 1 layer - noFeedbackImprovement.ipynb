{
 "cells": [
  {
   "cell_type": "code",
   "execution_count": 1,
   "metadata": {
    "collapsed": true
   },
   "outputs": [],
   "source": [
    "%matplotlib inline\n",
    "import mpld3\n",
    "mpld3.enable_notebook()\n",
    "\n",
    "%load_ext autoreload"
   ]
  },
  {
   "cell_type": "code",
   "execution_count": 2,
   "metadata": {},
   "outputs": [
    {
     "name": "stderr",
     "output_type": "stream",
     "text": [
      "/home/sicarbonnell/anaconda3/lib/python3.5/site-packages/h5py/__init__.py:34: FutureWarning: Conversion of the second argument of issubdtype from `float` to `np.floating` is deprecated. In future, it will be treated as `np.float64 == np.dtype(float).type`.\n",
      "  from ._conv import register_converters as _register_converters\n",
      "Using TensorFlow backend.\n"
     ]
    }
   ],
   "source": [
    "%autoreload\n",
    "import sys\n",
    "sys.path.insert(0, \"../\")\n",
    "\n",
    "import numpy as np\n",
    "import matplotlib\n",
    "import matplotlib.pyplot as plt\n",
    "import pickle\n",
    "\n",
    "from mnist_experiment_utils import load_data, get_model_noFeedbackImprovement\n",
    "from experiment_utils import plot_history, history_todict\n",
    "\n",
    "from keras.optimizers import SGD"
   ]
  },
  {
   "cell_type": "code",
   "execution_count": 3,
   "metadata": {
    "collapsed": true
   },
   "outputs": [],
   "source": [
    "result_file = 'results_noFeedbackImprovement.p'"
   ]
  },
  {
   "cell_type": "code",
   "execution_count": null,
   "metadata": {},
   "outputs": [
    {
     "name": "stdout",
     "output_type": "stream",
     "text": [
      "Experiment 1 done.\n",
      "Experiment 2 done.\n"
     ]
    }
   ],
   "source": [
    "results = dict()\n",
    "\n",
    "for experiment in range(10):\n",
    "    results.update({experiment:{}})\n",
    "    x_train, y_train, x_test, y_test = load_data(experiment)\n",
    "\n",
    "    lr = 10\n",
    "    batch_size = 128 # -> full batch training since there are 100 training samples\n",
    "    epochs = 4000\n",
    "    verbose = 0\n",
    "\n",
    "    for i in range(0,10):\n",
    "        model = get_model_noFeedbackImprovement(experiment)\n",
    "        \n",
    "        # collect relu's regime at initialization in each neuron for training and test images\n",
    "        #no fake firings needed for last layer when extracting firings since only relu's input is extracted\n",
    "        firing_train = [np.zeros_like(x_train,dtype = 'float32')]*(9)\n",
    "        firing_test = [np.zeros_like(x_test,dtype = 'float32')]*(9)\n",
    "        firing_train = model.get_firing([x_train]+firing_train, batch_size = 32)\n",
    "        firing_test = model.get_firing([x_test]+firing_test, batch_size = 32)\n",
    "\n",
    "        for l in model.layers:\n",
    "            if l.name != 'dense'+str(i):\n",
    "                l.trainable = False\n",
    "                \n",
    "        # ReLU's of the trained layer should be the only ones able to change of regime\n",
    "        model.set_firing_mode(firing_fixed=True)\n",
    "        K.set_value(model.relu_layers[i].firing_fixed,False)\n",
    "                \n",
    "        model.compile(loss='categorical_crossentropy',\n",
    "                      optimizer=SGD(lr),\n",
    "                      metrics=['accuracy'])\n",
    "\n",
    "        history = model.fit([x_train]+firing_train, y_train,\n",
    "                            batch_size=batch_size,\n",
    "                            epochs=epochs,\n",
    "                            verbose=verbose)\n",
    "\n",
    "        score_train = model.evaluate([x_train]+firing_train, y_train, verbose=0)\n",
    "        score_test = model.evaluate([x_test]+firing_test, y_test, verbose=0)\n",
    "\n",
    "        results[experiment].update({i:[score_train,score_test,history_todict(history)]})\n",
    "\n",
    "    with open(result_file,'wb') as f:\n",
    "        pickle.dump(results,f)\n",
    "        \n",
    "    print('Experiment '+str(experiment)+' done.')"
   ]
  },
  {
   "cell_type": "code",
   "execution_count": 4,
   "metadata": {},
   "outputs": [
    {
     "data": {
      "image/png": "[encoded data removed]",
      "text/html": [
       "\n",
       "\n",
       "<style>\n",
       "\n",
       "</style>\n",
       "\n",
       "<div id=\"fig_el46851396404430109686053480807\"></div>\n",
       "<script>\n",
       "function mpld3_load_lib(url, callback){\n",
       "  var s = document.createElement('script');\n",
       "  s.src = url;\n",
       "  s.async = true;\n",
       "  s.onreadystatechange = s.onload = callback;\n",
       "  s.onerror = function(){console.warn(\"failed to load library \" + url);};\n",
       "  document.getElementsByTagName(\"head\")[0].appendChild(s);\n",
       "}\n",
       "\n",
       "if(typeof(mpld3) !== \"undefined\" && mpld3._mpld3IsLoaded){\n",
       "   // already loaded: just create the figure\n",
       "   !function(mpld3){\n",
       "       \n",
       "       mpld3.draw_figure(\"fig_el46851396404430109686053480807\", {\"height\": 288.0, \"width\": 432.0, \"plugins\": [{\"type\": \"reset\"}, {\"type\": \"zoom\", \"button\": true, \"enabled\": false}, {\"type\": \"boxzoom\", \"button\": true, \"enabled\": false}], \"axes\": [{\"yscale\": \"linear\", \"ydomain\": [0.43, 0.61], \"texts\": [{\"h_anchor\": \"middle\", \"coordinates\": \"axes\", \"fontsize\": 18.0, \"v_baseline\": \"hanging\", \"zorder\": 3, \"rotation\": -0.0, \"position\": [0.5, -0.14600745141476187], \"color\": \"#000000\", \"text\": \"Layer index\", \"id\": \"el4685139640423525400\", \"alpha\": 1}, {\"h_anchor\": \"middle\", \"coordinates\": \"axes\", \"fontsize\": 18.0, \"v_baseline\": \"auto\", \"zorder\": 3, \"rotation\": -90.0, \"position\": [-0.1599712832037956, 0.5], \"color\": \"#000000\", \"text\": \"Test accuracy\", \"id\": \"el4685139640396501792\", \"alpha\": 1}], \"collections\": [], \"xdomain\": [-0.45, 9.45], \"sharex\": [], \"bbox\": [0.20530092592592594, 0.23069444444444442, 0.7415972222222221, 0.6896527777777779], \"id\": \"el4685139640442964120\", \"zoomable\": true, \"paths\": [], \"lines\": [{\"coordinates\": \"data\", \"dasharray\": \"5.550000000000001,2.4000000000000004\", \"drawstyle\": \"default\", \"color\": \"#D62728\", \"alpha\": 1, \"xindex\": 0, \"zorder\": 2, \"yindex\": 1, \"linewidth\": 1.5, \"data\": \"data01\", \"id\": \"el4685139640325456784\"}], \"sharey\": [], \"axesbg\": \"#FFFFFF\", \"axesbgalpha\": null, \"axes\": [{\"tickvalues\": [0, 1, 2, 3, 4, 5, 6, 7, 8, 9], \"nticks\": 10, \"grid\": {\"gridOn\": false}, \"tickformat\": null, \"visible\": true, \"fontsize\": 18.0, \"scale\": \"linear\", \"position\": \"bottom\"}, {\"tickvalues\": null, \"nticks\": 6, \"grid\": {\"gridOn\": false}, \"tickformat\": null, \"visible\": true, \"fontsize\": 18.0, \"scale\": \"linear\", \"position\": \"left\"}], \"images\": [], \"xscale\": \"linear\", \"markers\": [{\"coordinates\": \"data\", \"edgecolor\": \"#D62728\", \"markerpath\": [[[0.0, 3.75], [0.9945116250000001, 3.75], [1.9484245154432005, 3.3548763434559064], [2.6516504294495533, 2.6516504294495533], [3.3548763434559064, 1.9484245154432005], [3.75, 0.9945116250000001], [3.75, 0.0], [3.75, -0.9945116250000001], [3.3548763434559064, -1.9484245154432005], [2.6516504294495533, -2.6516504294495533], [1.9484245154432005, -3.3548763434559064], [0.9945116250000001, -3.75], [0.0, -3.75], [-0.9945116250000001, -3.75], [-1.9484245154432005, -3.3548763434559064], [-2.6516504294495533, -2.6516504294495533], [-3.3548763434559064, -1.9484245154432005], [-3.75, -0.9945116250000001], [-3.75, 0.0], [-3.75, 0.9945116250000001], [-3.3548763434559064, 1.9484245154432005], [-2.6516504294495533, 2.6516504294495533], [-1.9484245154432005, 3.3548763434559064], [-0.9945116250000001, 3.75], [0.0, 3.75]], [\"M\", \"C\", \"C\", \"C\", \"C\", \"C\", \"C\", \"C\", \"C\", \"Z\"]], \"alpha\": 1, \"xindex\": 0, \"facecolor\": \"#D62728\", \"zorder\": 2, \"yindex\": 1, \"edgewidth\": 1.0, \"data\": \"data01\", \"id\": \"el4685139640443011024pts\"}], \"ylim\": [0.43, 0.61], \"xlim\": [-0.45, 9.45]}], \"data\": {\"data01\": [[0.0, 0.46388999999999997], [1.0, 0.45364999999999994], [2.0, 0.45077999999999996], [3.0, 0.45385000000000003], [4.0, 0.45745], [5.0, 0.46235000000000004], [6.0, 0.48658], [7.0, 0.4968699999999999], [8.0, 0.5144700000000001], [9.0, 0.5752]]}, \"id\": \"el4685139640443010968\"});\n",
       "   }(mpld3);\n",
       "}else if(typeof define === \"function\" && define.amd){\n",
       "   // require.js is available: use it to load d3/mpld3\n",
       "   require.config({paths: {d3: \"https://mpld3.github.io/js/d3.v3.min\"}});\n",
       "   require([\"d3\"], function(d3){\n",
       "      window.d3 = d3;\n",
       "      mpld3_load_lib(\"https://mpld3.github.io/js/mpld3.v0.3.js\", function(){\n",
       "         \n",
       "         mpld3.draw_figure(\"fig_el46851396404430109686053480807\", {\"height\": 288.0, \"width\": 432.0, \"plugins\": [{\"type\": \"reset\"}, {\"type\": \"zoom\", \"button\": true, \"enabled\": false}, {\"type\": \"boxzoom\", \"button\": true, \"enabled\": false}], \"axes\": [{\"yscale\": \"linear\", \"ydomain\": [0.43, 0.61], \"texts\": [{\"h_anchor\": \"middle\", \"coordinates\": \"axes\", \"fontsize\": 18.0, \"v_baseline\": \"hanging\", \"zorder\": 3, \"rotation\": -0.0, \"position\": [0.5, -0.14600745141476187], \"color\": \"#000000\", \"text\": \"Layer index\", \"id\": \"el4685139640423525400\", \"alpha\": 1}, {\"h_anchor\": \"middle\", \"coordinates\": \"axes\", \"fontsize\": 18.0, \"v_baseline\": \"auto\", \"zorder\": 3, \"rotation\": -90.0, \"position\": [-0.1599712832037956, 0.5], \"color\": \"#000000\", \"text\": \"Test accuracy\", \"id\": \"el4685139640396501792\", \"alpha\": 1}], \"collections\": [], \"xdomain\": [-0.45, 9.45], \"sharex\": [], \"bbox\": [0.20530092592592594, 0.23069444444444442, 0.7415972222222221, 0.6896527777777779], \"id\": \"el4685139640442964120\", \"zoomable\": true, \"paths\": [], \"lines\": [{\"coordinates\": \"data\", \"dasharray\": \"5.550000000000001,2.4000000000000004\", \"drawstyle\": \"default\", \"color\": \"#D62728\", \"alpha\": 1, \"xindex\": 0, \"zorder\": 2, \"yindex\": 1, \"linewidth\": 1.5, \"data\": \"data01\", \"id\": \"el4685139640325456784\"}], \"sharey\": [], \"axesbg\": \"#FFFFFF\", \"axesbgalpha\": null, \"axes\": [{\"tickvalues\": [0, 1, 2, 3, 4, 5, 6, 7, 8, 9], \"nticks\": 10, \"grid\": {\"gridOn\": false}, \"tickformat\": null, \"visible\": true, \"fontsize\": 18.0, \"scale\": \"linear\", \"position\": \"bottom\"}, {\"tickvalues\": null, \"nticks\": 6, \"grid\": {\"gridOn\": false}, \"tickformat\": null, \"visible\": true, \"fontsize\": 18.0, \"scale\": \"linear\", \"position\": \"left\"}], \"images\": [], \"xscale\": \"linear\", \"markers\": [{\"coordinates\": \"data\", \"edgecolor\": \"#D62728\", \"markerpath\": [[[0.0, 3.75], [0.9945116250000001, 3.75], [1.9484245154432005, 3.3548763434559064], [2.6516504294495533, 2.6516504294495533], [3.3548763434559064, 1.9484245154432005], [3.75, 0.9945116250000001], [3.75, 0.0], [3.75, -0.9945116250000001], [3.3548763434559064, -1.9484245154432005], [2.6516504294495533, -2.6516504294495533], [1.9484245154432005, -3.3548763434559064], [0.9945116250000001, -3.75], [0.0, -3.75], [-0.9945116250000001, -3.75], [-1.9484245154432005, -3.3548763434559064], [-2.6516504294495533, -2.6516504294495533], [-3.3548763434559064, -1.9484245154432005], [-3.75, -0.9945116250000001], [-3.75, 0.0], [-3.75, 0.9945116250000001], [-3.3548763434559064, 1.9484245154432005], [-2.6516504294495533, 2.6516504294495533], [-1.9484245154432005, 3.3548763434559064], [-0.9945116250000001, 3.75], [0.0, 3.75]], [\"M\", \"C\", \"C\", \"C\", \"C\", \"C\", \"C\", \"C\", \"C\", \"Z\"]], \"alpha\": 1, \"xindex\": 0, \"facecolor\": \"#D62728\", \"zorder\": 2, \"yindex\": 1, \"edgewidth\": 1.0, \"data\": \"data01\", \"id\": \"el4685139640443011024pts\"}], \"ylim\": [0.43, 0.61], \"xlim\": [-0.45, 9.45]}], \"data\": {\"data01\": [[0.0, 0.46388999999999997], [1.0, 0.45364999999999994], [2.0, 0.45077999999999996], [3.0, 0.45385000000000003], [4.0, 0.45745], [5.0, 0.46235000000000004], [6.0, 0.48658], [7.0, 0.4968699999999999], [8.0, 0.5144700000000001], [9.0, 0.5752]]}, \"id\": \"el4685139640443010968\"});\n",
       "      });\n",
       "    });\n",
       "}else{\n",
       "    // require.js not available: dynamically load d3 & mpld3\n",
       "    mpld3_load_lib(\"https://mpld3.github.io/js/d3.v3.min.js\", function(){\n",
       "         mpld3_load_lib(\"https://mpld3.github.io/js/mpld3.v0.3.js\", function(){\n",
       "                 \n",
       "                 mpld3.draw_figure(\"fig_el46851396404430109686053480807\", {\"height\": 288.0, \"width\": 432.0, \"plugins\": [{\"type\": \"reset\"}, {\"type\": \"zoom\", \"button\": true, \"enabled\": false}, {\"type\": \"boxzoom\", \"button\": true, \"enabled\": false}], \"axes\": [{\"yscale\": \"linear\", \"ydomain\": [0.43, 0.61], \"texts\": [{\"h_anchor\": \"middle\", \"coordinates\": \"axes\", \"fontsize\": 18.0, \"v_baseline\": \"hanging\", \"zorder\": 3, \"rotation\": -0.0, \"position\": [0.5, -0.14600745141476187], \"color\": \"#000000\", \"text\": \"Layer index\", \"id\": \"el4685139640423525400\", \"alpha\": 1}, {\"h_anchor\": \"middle\", \"coordinates\": \"axes\", \"fontsize\": 18.0, \"v_baseline\": \"auto\", \"zorder\": 3, \"rotation\": -90.0, \"position\": [-0.1599712832037956, 0.5], \"color\": \"#000000\", \"text\": \"Test accuracy\", \"id\": \"el4685139640396501792\", \"alpha\": 1}], \"collections\": [], \"xdomain\": [-0.45, 9.45], \"sharex\": [], \"bbox\": [0.20530092592592594, 0.23069444444444442, 0.7415972222222221, 0.6896527777777779], \"id\": \"el4685139640442964120\", \"zoomable\": true, \"paths\": [], \"lines\": [{\"coordinates\": \"data\", \"dasharray\": \"5.550000000000001,2.4000000000000004\", \"drawstyle\": \"default\", \"color\": \"#D62728\", \"alpha\": 1, \"xindex\": 0, \"zorder\": 2, \"yindex\": 1, \"linewidth\": 1.5, \"data\": \"data01\", \"id\": \"el4685139640325456784\"}], \"sharey\": [], \"axesbg\": \"#FFFFFF\", \"axesbgalpha\": null, \"axes\": [{\"tickvalues\": [0, 1, 2, 3, 4, 5, 6, 7, 8, 9], \"nticks\": 10, \"grid\": {\"gridOn\": false}, \"tickformat\": null, \"visible\": true, \"fontsize\": 18.0, \"scale\": \"linear\", \"position\": \"bottom\"}, {\"tickvalues\": null, \"nticks\": 6, \"grid\": {\"gridOn\": false}, \"tickformat\": null, \"visible\": true, \"fontsize\": 18.0, \"scale\": \"linear\", \"position\": \"left\"}], \"images\": [], \"xscale\": \"linear\", \"markers\": [{\"coordinates\": \"data\", \"edgecolor\": \"#D62728\", \"markerpath\": [[[0.0, 3.75], [0.9945116250000001, 3.75], [1.9484245154432005, 3.3548763434559064], [2.6516504294495533, 2.6516504294495533], [3.3548763434559064, 1.9484245154432005], [3.75, 0.9945116250000001], [3.75, 0.0], [3.75, -0.9945116250000001], [3.3548763434559064, -1.9484245154432005], [2.6516504294495533, -2.6516504294495533], [1.9484245154432005, -3.3548763434559064], [0.9945116250000001, -3.75], [0.0, -3.75], [-0.9945116250000001, -3.75], [-1.9484245154432005, -3.3548763434559064], [-2.6516504294495533, -2.6516504294495533], [-3.3548763434559064, -1.9484245154432005], [-3.75, -0.9945116250000001], [-3.75, 0.0], [-3.75, 0.9945116250000001], [-3.3548763434559064, 1.9484245154432005], [-2.6516504294495533, 2.6516504294495533], [-1.9484245154432005, 3.3548763434559064], [-0.9945116250000001, 3.75], [0.0, 3.75]], [\"M\", \"C\", \"C\", \"C\", \"C\", \"C\", \"C\", \"C\", \"C\", \"Z\"]], \"alpha\": 1, \"xindex\": 0, \"facecolor\": \"#D62728\", \"zorder\": 2, \"yindex\": 1, \"edgewidth\": 1.0, \"data\": \"data01\", \"id\": \"el4685139640443011024pts\"}], \"ylim\": [0.43, 0.61], \"xlim\": [-0.45, 9.45]}], \"data\": {\"data01\": [[0.0, 0.46388999999999997], [1.0, 0.45364999999999994], [2.0, 0.45077999999999996], [3.0, 0.45385000000000003], [4.0, 0.45745], [5.0, 0.46235000000000004], [6.0, 0.48658], [7.0, 0.4968699999999999], [8.0, 0.5144700000000001], [9.0, 0.5752]]}, \"id\": \"el4685139640443010968\"});\n",
       "            })\n",
       "         });\n",
       "}\n",
       "</script>"
      ],
      "text/plain": [
       "<matplotlib.figure.Figure at 0x7f0093007f98>"
      ]
     },
     "metadata": {},
     "output_type": "display_data"
    }
   ],
   "source": [
    "%matplotlib inline\n",
    "\n",
    "with open(result_file,'rb') as f:\n",
    "    results = pickle.load(f)\n",
    "    \n",
    "nb_experiments = len(results.keys())\n",
    "\n",
    "test_accs = np.zeros(10)\n",
    "for experiment in range(nb_experiments):\n",
    "    test_accs += np.array([results[experiment][i][1][1] for i in range(0,10)])/nb_experiments\n",
    "\n",
    "train_accs = np.zeros(10)\n",
    "for experiment in range(nb_experiments):\n",
    "    train_accs += np.array([results[experiment][i][0][1] for i in range(0,10)])/nb_experiments\n",
    "\n",
    "matplotlib.rcParams.update({'font.size': 18})\n",
    "\n",
    "plt.plot(np.arange(10),test_accs,'C3--')\n",
    "# plt.plot(np.arange(10),train_accs,'C0--')\n",
    "plt.plot(np.arange(10),test_accs,'C3.',ms = 15)\n",
    "plt.xlabel('Layer index')\n",
    "plt.ylabel('Test accuracy')\n",
    "plt.xticks(range(10))\n",
    "plt.ylim(0.43,0.61)\n",
    "\n",
    "plt.tight_layout()\n",
    "plt.plot()\n",
    "\n",
    "plt.savefig('figures/MNIST_noFeedbackImprovement.eps',format='eps', dpi=200)\n",
    "# plt.savefig('figures/MNIST_noFeedbackImprovement.png',format='png', dpi=300)"
   ]
  },
  {
   "cell_type": "code",
   "execution_count": null,
   "metadata": {
    "collapsed": true
   },
   "outputs": [],
   "source": []
  }
 ],
 "metadata": {
  "kernelspec": {
   "display_name": "Python 3",
   "language": "python",
   "name": "python3"
  },
  "language_info": {
   "codemirror_mode": {
    "name": "ipython",
    "version": 3
   },
   "file_extension": ".py",
   "mimetype": "text/x-python",
   "name": "python",
   "nbconvert_exporter": "python",
   "pygments_lexer": "ipython3",
   "version": "3.5.4"
  }
 },
 "nbformat": 4,
 "nbformat_minor": 2
}
