{
 "cells": [
  {
   "cell_type": "markdown",
   "metadata": {},
   "source": [
    "# Experiment with varying alpha parameter"
   ]
  },
  {
   "cell_type": "code",
   "execution_count": 1,
   "metadata": {
    "collapsed": true
   },
   "outputs": [],
   "source": [
    "%matplotlib inline\n",
    "import mpld3\n",
    "mpld3.enable_notebook()\n",
    "\n",
    "%load_ext autoreload"
   ]
  },
  {
   "cell_type": "code",
   "execution_count": null,
   "metadata": {
    "collapsed": true
   },
   "outputs": [],
   "source": [
    "%autoreload\n",
    "import sys\n",
    "sys.path.insert(0, \"../\")\n",
    "\n",
    "import warnings\n",
    "import os\n",
    "import time\n",
    "\n",
    "import numpy as np\n",
    "np.random.seed(1)\n",
    "\n",
    "import matplotlib\n",
    "import matplotlib.pyplot as plt\n",
    "import pickle\n",
    "\n",
    "from optimizers_llc import SGD_llc\n",
    "from experiment_utils import history_todict, get_val_split\n",
    "from rotation_rate_utils import get_learning_rate_multipliers, LayerwiseParameterDistanceMemory\n",
    "\n",
    "from import_task import import_task\n",
    "from get_training_utils import get_training_schedule, get_stopping_criteria\n",
    "\n",
    "from keras.callbacks import ModelCheckpoint"
   ]
  },
  {
   "cell_type": "code",
   "execution_count": 3,
   "metadata": {
    "collapsed": true
   },
   "outputs": [],
   "source": [
    "def load_results():\n",
    "    if 'relative_lr_results.p' not in os.listdir('results'):\n",
    "        return {}\n",
    "    else:\n",
    "        with open('results/relative_lr_results.p','rb') as f:\n",
    "            return pickle.load(f)\n",
    "\n",
    "def dump_results(results):\n",
    "    with open('results/relative_lr_results.p','wb') as f:\n",
    "        pickle.dump(dict(results),f)\n",
    "\n",
    "def update_results(path, key, value):\n",
    "    results = load_results()\n",
    "    position = results\n",
    "    for p in path:\n",
    "        position = position[p]\n",
    "    position.update({key:value})\n",
    "    dump_results(results)"
   ]
  },
  {
   "cell_type": "code",
   "execution_count": 4,
   "metadata": {
    "collapsed": true
   },
   "outputs": [],
   "source": [
    "save_results = True\n",
    "if not save_results:\n",
    "    results = {}\n",
    "monitor_file = 'monitor_relative.txt' "
   ]
  },
  {
   "cell_type": "code",
   "execution_count": null,
   "metadata": {
    "collapsed": true
   },
   "outputs": [],
   "source": [
    "for task in ['cifar10','cifar100','tinyImagenet']:\n",
    "    x_train, y_train, x_test, y_test, get_model, initial_kernels = import_task(task)\n",
    "    \n",
    "    if task == 'tinyImagenet':\n",
    "        [x_train, y_train], [x_val, y_val] = get_val_split(x_train,y_train, 0.1) # validation set needed for early stopping\n",
    "    else:\n",
    "        x_val, y_val = x_test, y_test\n",
    "    \n",
    "    if save_results:\n",
    "        results = load_results()\n",
    "        if task not in results.keys():\n",
    "            update_results([],task,{})\n",
    "    elif task not in results.keys():\n",
    "        results.update({task:{}})\n",
    "    \n",
    "    for optimizer in ['llc','SGD','normalized']:\n",
    "        \n",
    "        if save_results:\n",
    "            results = load_results()\n",
    "            if optimizer not in results[task].keys():\n",
    "                update_results([task],optimizer,{})\n",
    "        elif optimizer not in results[task].keys():\n",
    "            results[task].update({optimizer:{}})\n",
    "            \n",
    "        \n",
    "        alphas = [-0.8, -0.6, -0.4, -0.3, -0.2, -0.1, 0., 0.1, 0.2, 0.3, 0.4, 0.6, 0.8]\n",
    "        \n",
    "        for alpha in alphas:\n",
    "            start = time.time()\n",
    "            model = get_model()\n",
    "            \n",
    "            if optimizer == 'llc':\n",
    "                lr = 3**-3\n",
    "            elif optimizer == 'SGD':\n",
    "                lr = 1. if task == 'cifar10' else 3**-1\n",
    "\n",
    "            batch_size = 128\n",
    "            epochs, lr_scheduler = get_training_schedule(task,lr,alpha)\n",
    "            verbose = 0\n",
    "\n",
    "            batch_frequency = int((x_train.shape[0]/batch_size))+5 # once per epoch\n",
    "            lpdm = LayerwiseParameterDistanceMemory(initial_kernels, batch_frequency = batch_frequency)\n",
    "            \n",
    "            stop_callback = get_stopping_criteria(task)\n",
    "            callbacks = [lr_scheduler, lpdm, stop_callback]\n",
    "            \n",
    "            multipliers = get_learning_rate_multipliers(model,alpha = alpha)\n",
    "            metrics = ['accuracy', 'top_k_categorical_accuracy'] if task == 'tinyImagenet' else ['accuracy']\n",
    "            model.compile(loss='categorical_crossentropy',\n",
    "                          optimizer=SGD_llc(model,lr=lr, training_mode = optimizer, multipliers = multipliers),\n",
    "                          metrics=metrics)\n",
    "            \n",
    "            if task == 'tinyImagenet':                 \n",
    "                weights_file = 'best_tinyImagenet_weights.h5'\n",
    "                callbacks += [ModelCheckpoint(weights_file, monitor='val_acc', save_best_only=True, save_weights_only = True)]\n",
    "            \n",
    "\n",
    "            with warnings.catch_warnings():\n",
    "                warnings.simplefilter(\"ignore\") # removes warning from keras for slow callback\n",
    "                history = model.fit(x_train,y_train,\n",
    "                                    epochs = epochs,\n",
    "                                    batch_size = batch_size,\n",
    "                                    verbose = verbose,\n",
    "                                    validation_data = (x_val, y_val),\n",
    "                                    callbacks = callbacks)\n",
    "            \n",
    "            if task == 'tinyImagenet':\n",
    "                model.load_weights(weights_file)\n",
    "            \n",
    "            test_performance = model.evaluate(x_test,y_test, verbose = verbose)\n",
    "            \n",
    "            if save_results:\n",
    "                update_results([task, optimizer],alpha,{'history':history_todict(history),'lpdm':np.array(lpdm.memory),\n",
    "                                                        'test_performance':test_performance})\n",
    "            else:\n",
    "                results[task][optimizer].update({alpha:{'history':history_todict(history),'lpdm':np.array(lpdm.memory),\n",
    "                                                        'test_performance':test_performance}})\n",
    "            \n",
    "            with open(monitor_file,'a') as file:\n",
    "                file.write(task + ', '+optimizer+', '+str(alpha)+': done in '+str(time.time()-start)+' seconds.\\n')"
   ]
  },
  {
   "cell_type": "code",
   "execution_count": null,
   "metadata": {
    "collapsed": true
   },
   "outputs": [],
   "source": []
  }
 ],
 "metadata": {
  "kernelspec": {
   "display_name": "Python 3",
   "language": "python",
   "name": "python3"
  },
  "language_info": {
   "codemirror_mode": {
    "name": "ipython",
    "version": 3
   },
   "file_extension": ".py",
   "mimetype": "text/x-python",
   "name": "python",
   "nbconvert_exporter": "python",
   "pygments_lexer": "ipython3",
   "version": "3.5.4"
  }
 },
 "nbformat": 4,
 "nbformat_minor": 2
}
